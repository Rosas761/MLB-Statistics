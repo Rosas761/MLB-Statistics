{
 "cells": [
  {
   "cell_type": "code",
   "execution_count": null,
   "metadata": {},
   "outputs": [],
   "source": [
    "%matplotlib notebook\n",
    "\n",
    "# Dependencies and Setup\n",
    "import matplotlib.pyplot as plt\n",
    "import pandas as pd\n",
    "import numpy as np\n",
    "from scipy import stats\n",
    "\n",
    "batting_csv_path = \"team.csv\"\n",
    "\n",
    "complete_df =  pd.read_csv(batting_csv_path)\n",
    "#complete_df"
   ]
  },
  {
   "cell_type": "code",
   "execution_count": null,
   "metadata": {},
   "outputs": [],
   "source": [
    "dh_df = pd.DataFrame(complete_df[['year', 'league_id', 'franchise_id','rank', 'g','ghome', 'w', 'l','r', 'ab',\n",
    "                                'h', 'double', 'triple', 'hr', 'bb', 'so','ra', 'er', 'era',\n",
    "                                'sho','ha', 'hra', 'bba','soa', 'e', 'dp', 'fp','attendance','bpf', 'ppf']])\n"
   ]
  },
  {
   "cell_type": "code",
   "execution_count": null,
   "metadata": {},
   "outputs": [],
   "source": [
    "rename_df = dh_df.rename(columns={'year':\"Year\", 'league_id':\"League\",'franchise_id':\"Franchise\", 'rank':\"Rank\",\n",
    "                                 'g':\"Games\", 'w':\"Wins\", 'l':\"Loses\",'r':\"Runs\",'ab':\"At_Bats\", 'h': \"Hits\", \n",
    "                                 \"double\":\"Doubles\", 'triple':\"Triples\", 'hr':\"HR\", 'bb':\"BB\", 'so':\"SO\", 'ra':\"RA\",\n",
    "                                 'er':\"ER\", 'era':\"ERA\", 'sho':\"SHO\", 'ha':\"HA\", 'hra':\"HRA\", 'bba':\"BBA\", 'soa':\"SOA\",\n",
    "                                 'e':\"Errors\", 'dp':\"DP\",'fp':\"FP\", 'attendance':\"Attendance\", 'bpf':\"DPF\", 'ppf':\"PPF\"})\n",
    "\n",
    "rename_df.columns\n",
    "\n",
    "rename_df[\"Year\"].dtypes"
   ]
  },
  {
   "cell_type": "code",
   "execution_count": null,
   "metadata": {},
   "outputs": [],
   "source": [
    "Modern_df = rename_df.loc[(rename_df[\"Year\"] > 1950)]\n",
    "\n",
    "NL_df = Modern_df.loc[(rename_df[\"League\"]== \"NL\")]\n",
    "\n",
    "AL_df = Modern_df.loc[(rename_df[\"League\"]== \"AL\")]\n",
    "AL_df.reset_index()\n",
    "\n",
    "AL_df.index = AL_df[\"Year\"]\n",
    "NL_df.index = NL_df[\"Year\"]"
   ]
  },
  {
   "cell_type": "code",
   "execution_count": null,
   "metadata": {},
   "outputs": [],
   "source": [
    "# Has the Addition of the DH changed the ERA in either league\n",
    "AL_ERA = pd.DataFrame(AL_df[[\"Year\",\"ERA\", \"Games\"]])\n",
    "NL_ERA = pd.DataFrame(NL_df[[\"Year\",\"ERA\", \"Games\"]])\n",
    "\n",
    "AL_ERA1 = pd.DataFrame(AL_df[[\"Year\",\"ERA\"]])\n",
    "NL_ERA1 = pd.DataFrame(NL_df[[\"Year\",\"ERA\"]])"
   ]
  },
  {
   "cell_type": "code",
   "execution_count": null,
   "metadata": {},
   "outputs": [],
   "source": [
    "grouped_ERA_AL = AL_ERA1.groupby(\"Year\")\n",
    "grouped_ERA_NL = NL_ERA1.groupby(\"Year\")\n",
    "\n",
    "AL_Sums = grouped_ERA_AL[\"ERA\"].sum() #Average ERA in the AL, by year. \n",
    "NL_Sums = grouped_ERA_NL[\"ERA\"].sum() #Average ERA in the NL, by year.\n",
    "\n",
    "Difference = pd.DataFrame(AL_ERA1-NL_ERA1)\n",
    "\n",
    "Diff3 = Difference.rename(columns={0: \"ERA_Difference\"})\n",
    "\n",
    "Diff_reset = Diff3.reset_index()"
   ]
  },
  {
   "cell_type": "code",
   "execution_count": null,
   "metadata": {},
   "outputs": [],
   "source": [
    "x_axis5 = Diff_reset[\"Year\"]\n",
    "\n",
    "vc_slope3, vc_int3, vc_r3, vc_p3, vc_std_err3 = stats.linregress(\n",
    "   x_axis5, AL_ERA1[0])\n",
    "vc_fit3 = vc_slope3 * x_axis5 + vc_int3\n",
    "plt.show()"
   ]
  },
  {
   "cell_type": "code",
   "execution_count": null,
   "metadata": {},
   "outputs": [],
   "source": [
    "x_axis = Diff_reset[\"Year\"]\n",
    "y_axis = Diff3[\"ERA_Difference\"]\n",
    "\n",
    "vc_slope2, vc_int2, vc_r2, vc_p2, vc_std_err2 = stats.linregress(\n",
    "    x_axis, y_axis)\n",
    "vc_fit2 = vc_slope2 * x_axis + vc_int2"
   ]
  },
  {
   "cell_type": "code",
   "execution_count": null,
   "metadata": {},
   "outputs": [],
   "source": [
    "Diff3[\"ERA_Difference\"].plot(kind= \"line\", color= \"b\", marker=\"o\")\n",
    "plt.plot(x_axis, y_axis, color=\"b\",  marker=\"o\")\n",
    "\n",
    "plt.plot(x_axis, vc_fit2, \"b--\", color= \"r\")\n",
    "plt.plot(x_axis, [0 for _ in range(len(x_axis))], color = \"orange\")\n",
    "\n",
    "plt.title(\"Has a pitchers earned run average (ERA) changed in either league since the implementation of the ERA rule?\")\n",
    "plt.xlabel(\"Years:   1950 - 2015\")\n",
    "plt.ylabel(\"AL ERA - NL ERA\")\n",
    "plt.grid(alpha= .25)\n",
    "\n",
    "\n",
    "Average_ERA_Dif = Diff3[\"ERA_Difference\"].mean()\n",
    "ARD = round(Average_Run_Dif,3)\n",
    "\n",
    "print(f\"result\")"
   ]
  }
 ],
 "metadata": {
  "kernelspec": {
   "display_name": "Python 3",
   "language": "python",
   "name": "python3"
  },
  "language_info": {
   "codemirror_mode": {
    "name": "ipython",
    "version": 3
   },
   "file_extension": ".py",
   "mimetype": "text/x-python",
   "name": "python",
   "nbconvert_exporter": "python",
   "pygments_lexer": "ipython3",
   "version": "3.7.3"
  }
 },
 "nbformat": 4,
 "nbformat_minor": 2
}
